{
  "nbformat": 4,
  "nbformat_minor": 0,
  "metadata": {
    "accelerator": "GPU",
    "colab": {
      "name": "CIFAR_10_Dropout_BN_L2.ipynb",
      "provenance": [],
      "collapsed_sections": []
    },
    "kernelspec": {
      "display_name": "Python 3",
      "name": "python3"
    },
    "language_info": {
      "name": "python"
    }
  },
  "cells": [
    {
      "cell_type": "code",
      "metadata": {
        "id": "eSVX2lCiCLM1"
      },
      "source": [
        "import pandas as pd\n",
        "import numpy as np\n",
        "import keras\n",
        "import os\n",
        "from keras.models import Sequential\n",
        "from keras.layers import Conv2D, MaxPooling2D, Dropout, Dense, Activation, Flatten\n",
        "from keras.layers import BatchNormalization\n",
        "from keras.preprocessing.image import ImageDataGenerator\n",
        "from keras.regularizers import l2\n",
        "import matplotlib.pyplot as plt"
      ],
      "execution_count": 12,
      "outputs": []
    },
    {
      "cell_type": "markdown",
      "metadata": {
        "id": "hQS4tfkQPCfl"
      },
      "source": [
        "## Importing Database"
      ]
    },
    {
      "cell_type": "code",
      "metadata": {
        "id": "pgL-mDbfOpbb"
      },
      "source": [
        "from keras.datasets import cifar10"
      ],
      "execution_count": 13,
      "outputs": []
    },
    {
      "cell_type": "code",
      "metadata": {
        "id": "Y4NO0b6TPaev"
      },
      "source": [
        "# declaring parameters\n",
        "batch_size=32\n",
        "num_classes=10\n",
        "epochs=50"
      ],
      "execution_count": 14,
      "outputs": []
    },
    {
      "cell_type": "code",
      "metadata": {
        "colab": {
          "base_uri": "https://localhost:8080/"
        },
        "id": "wbJ973vMPlxa",
        "outputId": "fccd9150-7cc5-4cab-e81f-00f263c48516"
      },
      "source": [
        "# splitting the dataset into train and test\n",
        "(x_train,y_train),(x_test,y_test)=cifar10.load_data()\n",
        "print(y_train.shape,x_train.shape)\n",
        "print(y_test.shape,x_test.shape)"
      ],
      "execution_count": 15,
      "outputs": [
        {
          "output_type": "stream",
          "name": "stdout",
          "text": [
            "(50000, 1) (50000, 32, 32, 3)\n",
            "(10000, 1) (10000, 32, 32, 3)\n"
          ]
        }
      ]
    },
    {
      "cell_type": "code",
      "metadata": {
        "id": "jRTo8RNMQI0Z"
      },
      "source": [
        "# converting class vectors to binary class matrices\n",
        "from keras.utils import np_utils\n",
        "y_train=keras.utils.np_utils.to_categorical(y_train)\n",
        "y_test=keras.utils.np_utils.to_categorical(y_test)"
      ],
      "execution_count": 16,
      "outputs": []
    },
    {
      "cell_type": "code",
      "metadata": {
        "colab": {
          "base_uri": "https://localhost:8080/"
        },
        "id": "vbZpSWvbRP8l",
        "outputId": "8b9e00f2-e752-46ef-adac-5a24921f8381"
      },
      "source": [
        "print(y_train[:10])"
      ],
      "execution_count": 17,
      "outputs": [
        {
          "output_type": "stream",
          "name": "stdout",
          "text": [
            "[[0. 0. 0. 0. 0. 0. 1. 0. 0. 0.]\n",
            " [0. 0. 0. 0. 0. 0. 0. 0. 0. 1.]\n",
            " [0. 0. 0. 0. 0. 0. 0. 0. 0. 1.]\n",
            " [0. 0. 0. 0. 1. 0. 0. 0. 0. 0.]\n",
            " [0. 1. 0. 0. 0. 0. 0. 0. 0. 0.]\n",
            " [0. 1. 0. 0. 0. 0. 0. 0. 0. 0.]\n",
            " [0. 0. 1. 0. 0. 0. 0. 0. 0. 0.]\n",
            " [0. 0. 0. 0. 0. 0. 0. 1. 0. 0.]\n",
            " [0. 0. 0. 0. 0. 0. 0. 0. 1. 0.]\n",
            " [0. 0. 0. 1. 0. 0. 0. 0. 0. 0.]]\n"
          ]
        }
      ]
    },
    {
      "cell_type": "markdown",
      "metadata": {
        "id": "dV3Rex_pg9XY"
      },
      "source": [
        "## Building the model"
      ]
    },
    {
      "cell_type": "code",
      "metadata": {
        "id": "Rxw2I0PjhHTW"
      },
      "source": [
        "model=Sequential()\n",
        "model.add(Conv2D(32,(3,3),padding='same',input_shape=x_train.shape[1:]))\n",
        "model.add(Activation('relu'))\n",
        "model.add(BatchNormalization())\n",
        "model.add(Conv2D(32,(3,3)))\n",
        "model.add(Activation('relu'))\n",
        "model.add(BatchNormalization())\n",
        "model.add(MaxPooling2D(pool_size=(2,2)))\n",
        "model.add(Dropout(0.25))\n",
        "\n",
        "model.add(Conv2D(64,(3,3),padding='same'))\n",
        "model.add(Activation('relu'))\n",
        "model.add(BatchNormalization())\n",
        "model.add(Conv2D(64,(3,3)))\n",
        "model.add(Activation('relu'))\n",
        "model.add(BatchNormalization())\n",
        "model.add(MaxPooling2D(pool_size=(2,2)))\n",
        "model.add(Dropout(0.25))\n",
        "\n",
        "model.add(Conv2D(128,(3,3),padding='same'))\n",
        "model.add(Activation(\"relu\"))\n",
        "model.add(BatchNormalization())\n",
        "model.add(Conv2D(128,(3,3)))\n",
        "model.add(Activation(\"relu\"))\n",
        "model.add(BatchNormalization())\n",
        "model.add(MaxPooling2D(pool_size=(2,2)))\n",
        "model.add(Dropout(0.25))\n",
        "\n",
        "model.add(Flatten())\n",
        "model.add(Dense(512,kernel_regularizer=l2(0.01)))\n",
        "model.add(Activation(\"relu\"))\n",
        "model.add(Dropout(0.5))\n",
        "model.add(Dense(num_classes))\n",
        "model.add(Activation(\"softmax\"))"
      ],
      "execution_count": 18,
      "outputs": []
    },
    {
      "cell_type": "code",
      "metadata": {
        "colab": {
          "base_uri": "https://localhost:8080/"
        },
        "id": "swB3nWhMFt8X",
        "outputId": "e04c3f05-aef1-4ef4-e09c-1097726d407d"
      },
      "source": [
        "print(model.summary())"
      ],
      "execution_count": 19,
      "outputs": [
        {
          "output_type": "stream",
          "name": "stdout",
          "text": [
            "Model: \"sequential_1\"\n",
            "_________________________________________________________________\n",
            " Layer (type)                Output Shape              Param #   \n",
            "=================================================================\n",
            " conv2d_6 (Conv2D)           (None, 32, 32, 32)        896       \n",
            "                                                                 \n",
            " activation_8 (Activation)   (None, 32, 32, 32)        0         \n",
            "                                                                 \n",
            " batch_normalization_6 (Batc  (None, 32, 32, 32)       128       \n",
            " hNormalization)                                                 \n",
            "                                                                 \n",
            " conv2d_7 (Conv2D)           (None, 30, 30, 32)        9248      \n",
            "                                                                 \n",
            " activation_9 (Activation)   (None, 30, 30, 32)        0         \n",
            "                                                                 \n",
            " batch_normalization_7 (Batc  (None, 30, 30, 32)       128       \n",
            " hNormalization)                                                 \n",
            "                                                                 \n",
            " max_pooling2d_3 (MaxPooling  (None, 15, 15, 32)       0         \n",
            " 2D)                                                             \n",
            "                                                                 \n",
            " dropout_4 (Dropout)         (None, 15, 15, 32)        0         \n",
            "                                                                 \n",
            " conv2d_8 (Conv2D)           (None, 15, 15, 64)        18496     \n",
            "                                                                 \n",
            " activation_10 (Activation)  (None, 15, 15, 64)        0         \n",
            "                                                                 \n",
            " batch_normalization_8 (Batc  (None, 15, 15, 64)       256       \n",
            " hNormalization)                                                 \n",
            "                                                                 \n",
            " conv2d_9 (Conv2D)           (None, 13, 13, 64)        36928     \n",
            "                                                                 \n",
            " activation_11 (Activation)  (None, 13, 13, 64)        0         \n",
            "                                                                 \n",
            " batch_normalization_9 (Batc  (None, 13, 13, 64)       256       \n",
            " hNormalization)                                                 \n",
            "                                                                 \n",
            " max_pooling2d_4 (MaxPooling  (None, 6, 6, 64)         0         \n",
            " 2D)                                                             \n",
            "                                                                 \n",
            " dropout_5 (Dropout)         (None, 6, 6, 64)          0         \n",
            "                                                                 \n",
            " conv2d_10 (Conv2D)          (None, 6, 6, 128)         73856     \n",
            "                                                                 \n",
            " activation_12 (Activation)  (None, 6, 6, 128)         0         \n",
            "                                                                 \n",
            " batch_normalization_10 (Bat  (None, 6, 6, 128)        512       \n",
            " chNormalization)                                                \n",
            "                                                                 \n",
            " conv2d_11 (Conv2D)          (None, 4, 4, 128)         147584    \n",
            "                                                                 \n",
            " activation_13 (Activation)  (None, 4, 4, 128)         0         \n",
            "                                                                 \n",
            " batch_normalization_11 (Bat  (None, 4, 4, 128)        512       \n",
            " chNormalization)                                                \n",
            "                                                                 \n",
            " max_pooling2d_5 (MaxPooling  (None, 2, 2, 128)        0         \n",
            " 2D)                                                             \n",
            "                                                                 \n",
            " dropout_6 (Dropout)         (None, 2, 2, 128)         0         \n",
            "                                                                 \n",
            " flatten_1 (Flatten)         (None, 512)               0         \n",
            "                                                                 \n",
            " dense_2 (Dense)             (None, 512)               262656    \n",
            "                                                                 \n",
            " activation_14 (Activation)  (None, 512)               0         \n",
            "                                                                 \n",
            " dropout_7 (Dropout)         (None, 512)               0         \n",
            "                                                                 \n",
            " dense_3 (Dense)             (None, 10)                5130      \n",
            "                                                                 \n",
            " activation_15 (Activation)  (None, 10)                0         \n",
            "                                                                 \n",
            "=================================================================\n",
            "Total params: 556,586\n",
            "Trainable params: 555,690\n",
            "Non-trainable params: 896\n",
            "_________________________________________________________________\n",
            "None\n"
          ]
        }
      ]
    },
    {
      "cell_type": "code",
      "metadata": {
        "id": "BUqDMhSmFyMV"
      },
      "source": [
        "#compiling\n",
        "model.compile(loss='categorical_crossentropy',\n",
        "              optimizer='sgd',\n",
        "              metrics=['accuracy'])\n",
        "#converting to float\n",
        "x_train=x_train.astype('float32')\n",
        "x_test=x_test.astype('float32')\n",
        "\n",
        "#normalizing\n",
        "x_train/=255\n",
        "x_test/=255"
      ],
      "execution_count": 20,
      "outputs": []
    },
    {
      "cell_type": "code",
      "metadata": {
        "colab": {
          "base_uri": "https://localhost:8080/"
        },
        "id": "bReabhx_IHQG",
        "outputId": "878ed4aa-4476-4856-f3e6-1e6190bc8ee8"
      },
      "source": [
        "history = model.fit(x_train, y_train,\n",
        "              batch_size=batch_size,\n",
        "              epochs=epochs,\n",
        "              validation_data=(x_test, y_test),\n",
        "              shuffle=True)"
      ],
      "execution_count": 21,
      "outputs": [
        {
          "output_type": "stream",
          "name": "stdout",
          "text": [
            "Epoch 1/50\n",
            "1563/1563 [==============================] - 32s 20ms/step - loss: 5.5265 - accuracy: 0.3837 - val_loss: 4.3903 - val_accuracy: 0.4095\n",
            "Epoch 2/50\n",
            "1563/1563 [==============================] - 30s 19ms/step - loss: 3.3558 - accuracy: 0.5194 - val_loss: 2.7163 - val_accuracy: 0.5540\n",
            "Epoch 3/50\n",
            "1563/1563 [==============================] - 29s 19ms/step - loss: 2.2571 - accuracy: 0.5873 - val_loss: 1.8435 - val_accuracy: 0.6294\n",
            "Epoch 4/50\n",
            "1563/1563 [==============================] - 30s 19ms/step - loss: 1.6473 - accuracy: 0.6331 - val_loss: 1.4937 - val_accuracy: 0.6321\n",
            "Epoch 5/50\n",
            "1563/1563 [==============================] - 30s 19ms/step - loss: 1.3045 - accuracy: 0.6642 - val_loss: 1.1644 - val_accuracy: 0.6820\n",
            "Epoch 6/50\n",
            "1563/1563 [==============================] - 30s 19ms/step - loss: 1.0991 - accuracy: 0.6866 - val_loss: 0.9951 - val_accuracy: 0.7090\n",
            "Epoch 7/50\n",
            "1563/1563 [==============================] - 28s 18ms/step - loss: 0.9767 - accuracy: 0.7088 - val_loss: 0.9244 - val_accuracy: 0.7244\n",
            "Epoch 8/50\n",
            "1563/1563 [==============================] - 28s 18ms/step - loss: 0.8995 - accuracy: 0.7230 - val_loss: 0.8934 - val_accuracy: 0.7203\n",
            "Epoch 9/50\n",
            "1563/1563 [==============================] - 28s 18ms/step - loss: 0.8444 - accuracy: 0.7346 - val_loss: 0.9026 - val_accuracy: 0.7116\n",
            "Epoch 10/50\n",
            "1563/1563 [==============================] - 28s 18ms/step - loss: 0.8020 - accuracy: 0.7485 - val_loss: 0.8094 - val_accuracy: 0.7409\n",
            "Epoch 11/50\n",
            "1563/1563 [==============================] - 28s 18ms/step - loss: 0.7703 - accuracy: 0.7569 - val_loss: 0.8116 - val_accuracy: 0.7419\n",
            "Epoch 12/50\n",
            "1563/1563 [==============================] - 27s 17ms/step - loss: 0.7461 - accuracy: 0.7656 - val_loss: 0.7266 - val_accuracy: 0.7770\n",
            "Epoch 13/50\n",
            "1563/1563 [==============================] - 28s 18ms/step - loss: 0.7227 - accuracy: 0.7721 - val_loss: 0.7101 - val_accuracy: 0.7771\n",
            "Epoch 14/50\n",
            "1563/1563 [==============================] - 29s 19ms/step - loss: 0.7034 - accuracy: 0.7802 - val_loss: 0.6893 - val_accuracy: 0.7831\n",
            "Epoch 15/50\n",
            "1563/1563 [==============================] - 30s 19ms/step - loss: 0.6808 - accuracy: 0.7883 - val_loss: 0.7066 - val_accuracy: 0.7845\n",
            "Epoch 16/50\n",
            "1563/1563 [==============================] - 29s 18ms/step - loss: 0.6665 - accuracy: 0.7922 - val_loss: 0.6946 - val_accuracy: 0.7883\n",
            "Epoch 17/50\n",
            "1563/1563 [==============================] - 28s 18ms/step - loss: 0.6506 - accuracy: 0.7998 - val_loss: 0.6524 - val_accuracy: 0.7994\n",
            "Epoch 18/50\n",
            "1563/1563 [==============================] - 27s 18ms/step - loss: 0.6311 - accuracy: 0.8064 - val_loss: 0.6420 - val_accuracy: 0.8070\n",
            "Epoch 19/50\n",
            "1563/1563 [==============================] - 27s 17ms/step - loss: 0.6192 - accuracy: 0.8113 - val_loss: 0.6370 - val_accuracy: 0.8058\n",
            "Epoch 20/50\n",
            "1563/1563 [==============================] - 28s 18ms/step - loss: 0.6045 - accuracy: 0.8173 - val_loss: 0.6195 - val_accuracy: 0.8135\n",
            "Epoch 21/50\n",
            "1563/1563 [==============================] - 29s 19ms/step - loss: 0.5888 - accuracy: 0.8219 - val_loss: 0.6575 - val_accuracy: 0.8023\n",
            "Epoch 22/50\n",
            "1563/1563 [==============================] - 29s 18ms/step - loss: 0.5812 - accuracy: 0.8232 - val_loss: 0.6341 - val_accuracy: 0.8124\n",
            "Epoch 23/50\n",
            "1563/1563 [==============================] - 29s 19ms/step - loss: 0.5684 - accuracy: 0.8321 - val_loss: 0.6322 - val_accuracy: 0.8141\n",
            "Epoch 24/50\n",
            "1563/1563 [==============================] - 30s 19ms/step - loss: 0.5609 - accuracy: 0.8315 - val_loss: 0.6173 - val_accuracy: 0.8144\n",
            "Epoch 25/50\n",
            "1563/1563 [==============================] - 29s 19ms/step - loss: 0.5462 - accuracy: 0.8374 - val_loss: 0.6335 - val_accuracy: 0.8110\n",
            "Epoch 26/50\n",
            "1563/1563 [==============================] - 28s 18ms/step - loss: 0.5411 - accuracy: 0.8395 - val_loss: 0.5866 - val_accuracy: 0.8281\n",
            "Epoch 27/50\n",
            "1563/1563 [==============================] - 28s 18ms/step - loss: 0.5316 - accuracy: 0.8429 - val_loss: 0.5945 - val_accuracy: 0.8268\n",
            "Epoch 28/50\n",
            "1563/1563 [==============================] - 29s 19ms/step - loss: 0.5196 - accuracy: 0.8473 - val_loss: 0.5830 - val_accuracy: 0.8318\n",
            "Epoch 29/50\n",
            "1563/1563 [==============================] - 29s 18ms/step - loss: 0.5109 - accuracy: 0.8489 - val_loss: 0.5841 - val_accuracy: 0.8289\n",
            "Epoch 30/50\n",
            "1563/1563 [==============================] - 28s 18ms/step - loss: 0.5062 - accuracy: 0.8518 - val_loss: 0.6016 - val_accuracy: 0.8250\n",
            "Epoch 31/50\n",
            "1563/1563 [==============================] - 27s 17ms/step - loss: 0.4973 - accuracy: 0.8549 - val_loss: 0.5892 - val_accuracy: 0.8292\n",
            "Epoch 32/50\n",
            "1563/1563 [==============================] - 27s 17ms/step - loss: 0.4891 - accuracy: 0.8586 - val_loss: 0.6089 - val_accuracy: 0.8246\n",
            "Epoch 33/50\n",
            "1563/1563 [==============================] - 28s 18ms/step - loss: 0.4859 - accuracy: 0.8604 - val_loss: 0.6625 - val_accuracy: 0.8091\n",
            "Epoch 34/50\n",
            "1563/1563 [==============================] - 29s 19ms/step - loss: 0.4748 - accuracy: 0.8632 - val_loss: 0.5744 - val_accuracy: 0.8377\n",
            "Epoch 35/50\n",
            "1563/1563 [==============================] - 30s 19ms/step - loss: 0.4697 - accuracy: 0.8659 - val_loss: 0.5729 - val_accuracy: 0.8388\n",
            "Epoch 36/50\n",
            "1563/1563 [==============================] - 30s 19ms/step - loss: 0.4611 - accuracy: 0.8694 - val_loss: 0.5834 - val_accuracy: 0.8371\n",
            "Epoch 37/50\n",
            "1563/1563 [==============================] - 29s 19ms/step - loss: 0.4603 - accuracy: 0.8683 - val_loss: 0.5969 - val_accuracy: 0.8299\n",
            "Epoch 38/50\n",
            "1563/1563 [==============================] - 29s 18ms/step - loss: 0.4523 - accuracy: 0.8711 - val_loss: 0.6234 - val_accuracy: 0.8242\n",
            "Epoch 39/50\n",
            "1563/1563 [==============================] - 29s 18ms/step - loss: 0.4435 - accuracy: 0.8743 - val_loss: 0.5708 - val_accuracy: 0.8398\n",
            "Epoch 40/50\n",
            "1563/1563 [==============================] - 30s 19ms/step - loss: 0.4368 - accuracy: 0.8767 - val_loss: 0.6156 - val_accuracy: 0.8290\n",
            "Epoch 41/50\n",
            "1563/1563 [==============================] - 29s 19ms/step - loss: 0.4358 - accuracy: 0.8782 - val_loss: 0.5916 - val_accuracy: 0.8340\n",
            "Epoch 42/50\n",
            "1563/1563 [==============================] - 30s 19ms/step - loss: 0.4307 - accuracy: 0.8782 - val_loss: 0.5893 - val_accuracy: 0.8358\n",
            "Epoch 43/50\n",
            "1563/1563 [==============================] - 29s 19ms/step - loss: 0.4220 - accuracy: 0.8833 - val_loss: 0.6078 - val_accuracy: 0.8311\n",
            "Epoch 44/50\n",
            "1563/1563 [==============================] - 30s 19ms/step - loss: 0.4202 - accuracy: 0.8821 - val_loss: 0.5877 - val_accuracy: 0.8310\n",
            "Epoch 45/50\n",
            "1563/1563 [==============================] - 30s 19ms/step - loss: 0.4110 - accuracy: 0.8878 - val_loss: 0.5648 - val_accuracy: 0.8453\n",
            "Epoch 46/50\n",
            "1563/1563 [==============================] - 30s 19ms/step - loss: 0.4130 - accuracy: 0.8832 - val_loss: 0.6011 - val_accuracy: 0.8368\n",
            "Epoch 47/50\n",
            "1563/1563 [==============================] - 30s 19ms/step - loss: 0.4075 - accuracy: 0.8879 - val_loss: 0.5893 - val_accuracy: 0.8362\n",
            "Epoch 48/50\n",
            "1563/1563 [==============================] - 30s 19ms/step - loss: 0.3995 - accuracy: 0.8894 - val_loss: 0.6026 - val_accuracy: 0.8404\n",
            "Epoch 49/50\n",
            "1563/1563 [==============================] - 30s 19ms/step - loss: 0.3967 - accuracy: 0.8911 - val_loss: 0.6237 - val_accuracy: 0.8302\n",
            "Epoch 50/50\n",
            "1563/1563 [==============================] - 30s 19ms/step - loss: 0.3909 - accuracy: 0.8936 - val_loss: 0.5959 - val_accuracy: 0.8383\n"
          ]
        }
      ]
    },
    {
      "cell_type": "code",
      "metadata": {
        "colab": {
          "base_uri": "https://localhost:8080/",
          "height": 590
        },
        "id": "8SLvDeUlIc6E",
        "outputId": "779a2049-7b14-405c-83c5-f1d54daadb39"
      },
      "source": [
        "print(history.history.keys())\n",
        "# summerize history for accuracy\n",
        "plt.plot(history.history['accuracy'])\n",
        "plt.plot(history.history['val_accuracy'])\n",
        "plt.title('model accuracy')\n",
        "plt.ylabel('accuracy')\n",
        "plt.xlabel('epoch')\n",
        "plt.legend(['train', 'test'], loc='upper left')\n",
        "plt.show()\n",
        "# summarize history for loss\n",
        "plt.plot(history.history['loss'])\n",
        "plt.plot(history.history['val_loss'])\n",
        "plt.title('model loss')\n",
        "plt.ylabel('loss')\n",
        "plt.xlabel('epoch')\n",
        "plt.legend(['train', 'test'], loc='upper left')\n",
        "plt.show()"
      ],
      "execution_count": 23,
      "outputs": [
        {
          "output_type": "stream",
          "name": "stdout",
          "text": [
            "dict_keys(['loss', 'accuracy', 'val_loss', 'val_accuracy'])\n"
          ]
        },
        {
          "output_type": "display_data",
          "data": {
            "image/png": "[encoded data removed]",
            "text/plain": [
              "<Figure size 432x288 with 1 Axes>"
            ]
          },
          "metadata": {
            "needs_background": "light"
          }
        },
        {
          "output_type": "display_data",
          "data": {
            "image/png": "[encoded data removed]",
            "text/plain": [
              "<Figure size 432x288 with 1 Axes>"
            ]
          },
          "metadata": {
            "needs_background": "light"
          }
        }
      ]
    },
    {
      "cell_type": "code",
      "metadata": {
        "id": "k97tMALINHJV"
      },
      "source": [
        ""
      ],
      "execution_count": null,
      "outputs": []
    }
  ]
}